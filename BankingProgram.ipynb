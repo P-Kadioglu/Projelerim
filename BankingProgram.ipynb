{
 "cells": [
  {
   "cell_type": "code",
   "execution_count": 2,
   "id": "c18cc67d-bf16-4508-9c8f-482303ee8501",
   "metadata": {},
   "outputs": [
    {
     "name": "stdout",
     "output_type": "stream",
     "text": [
      "*********************\n",
      "Thank you ! Have a nice day\n",
      "*********************\n",
      "*********************\n",
      "   Banking Program   \n",
      "1.Show Balance\n",
      "2.Deposit\n",
      "3.Withdraw\n",
      "4.Exit\n",
      "*********************\n"
     ]
    },
    {
     "name": "stdin",
     "output_type": "stream",
     "text": [
      "Enter your choice (1-4):   1\n"
     ]
    },
    {
     "name": "stdout",
     "output_type": "stream",
     "text": [
      "*********************\n",
      "Your balance is $0.00\n",
      "*********************\n",
      "*********************\n",
      "   Banking Program   \n",
      "1.Show Balance\n",
      "2.Deposit\n",
      "3.Withdraw\n",
      "4.Exit\n",
      "*********************\n"
     ]
    },
    {
     "name": "stdin",
     "output_type": "stream",
     "text": [
      "Enter your choice (1-4):   2\n",
      "Enter an amount to be deposited:  222\n"
     ]
    },
    {
     "name": "stdout",
     "output_type": "stream",
     "text": [
      "*********************\n",
      "   Banking Program   \n",
      "1.Show Balance\n",
      "2.Deposit\n",
      "3.Withdraw\n",
      "4.Exit\n",
      "*********************\n"
     ]
    },
    {
     "name": "stdin",
     "output_type": "stream",
     "text": [
      "Enter your choice (1-4):   3\n",
      "Enter amount to be withdraw:  145\n"
     ]
    },
    {
     "name": "stdout",
     "output_type": "stream",
     "text": [
      "*********************\n",
      "   Banking Program   \n",
      "1.Show Balance\n",
      "2.Deposit\n",
      "3.Withdraw\n",
      "4.Exit\n",
      "*********************\n"
     ]
    },
    {
     "name": "stdin",
     "output_type": "stream",
     "text": [
      "Enter your choice (1-4):   1\n"
     ]
    },
    {
     "name": "stdout",
     "output_type": "stream",
     "text": [
      "*********************\n",
      "Your balance is $77.00\n",
      "*********************\n",
      "*********************\n",
      "   Banking Program   \n",
      "1.Show Balance\n",
      "2.Deposit\n",
      "3.Withdraw\n",
      "4.Exit\n",
      "*********************\n"
     ]
    },
    {
     "name": "stdin",
     "output_type": "stream",
     "text": [
      "Enter your choice (1-4):   4\n"
     ]
    }
   ],
   "source": [
    "def show_balance(balance):\n",
    "    print(\"*********************\")\n",
    "    print(f\"Your balance is ${balance:.2f}\") \n",
    "    print(\"*********************\")\n",
    "# iki basamaklı ondalık ifade belirtmek için .2f kullanıldı.\n",
    "\n",
    "def deposit():\n",
    "    amount=float(input(\"Enter an amount to be deposited: \"))\n",
    "    \n",
    "    if amount < 0:\n",
    "        print(\"That's not a valid amount.\")\n",
    "        return 0\n",
    "        #negatif para yatırmaya çalışılırsa yada tanımsız bir sayı\n",
    "    #bu yüzden if in içinde bir return belirlememiz gerekiyor\n",
    "    #return 0 ekleyince program  hata vermiyor\n",
    "    else:\n",
    "        return amount\n",
    " \n",
    "\n",
    "def withdraw(balance):\n",
    "    amount = float(input(\"Enter amount to be withdraw: \"))\n",
    "    \n",
    "    if amount > balance:\n",
    "        print(\"İnsufficient funds\")\n",
    "    elif amount < 0:\n",
    "        print(\"Amount must be greater 0\")\n",
    "        return 0\n",
    "    else:\n",
    "        return amount\n",
    "\n",
    "\n",
    "def main():\n",
    "#Tüm değişkenleri kapsüllemek ve okunabilirliği artırmak için main fonk alıyoruz\n",
    "    \n",
    "    balance = 0\n",
    "    is_running = True\n",
    "\n",
    "    while is_running:\n",
    "        print(\"*********************\")\n",
    "        print(\"   Banking Program   \")\n",
    "        print(\"1.Show Balance\")\n",
    "        print(\"2.Deposit\")\n",
    "        print(\"3.Withdraw\")\n",
    "        print(\"4.Exit\")\n",
    "        print(\"*********************\")\n",
    "\n",
    "        choice = input(\"Enter your choice (1-4):  \")\n",
    "\n",
    "        if choice =='1':\n",
    "            show_balance(balance)\n",
    "        elif choice =='2':\n",
    "            balance += deposit()\n",
    "        elif choice =='3':\n",
    "            balance -= withdraw(balance)\n",
    "        elif choice =='4':\n",
    "            is_running = False\n",
    "        else: \n",
    "            print(\"*********************\")\n",
    "            print(\"That is not a valid choice\")\n",
    "print(\"*********************\")        \n",
    "print(\"Thank you ! Have a nice day\")\n",
    "print(\"*********************\")\n",
    "\n",
    "if __name__ == '__main__':\n",
    "    main()\n",
    "#prg sonuna girinti yapmamızın sebebi \n",
    "#program içe aktarılabilir ve tek başına çağırılabilir olmasıdır. \n",
    "#bir ana fonk çağırıyoruz.\n",
    "    \n",
    "        \n",
    "    \n",
    "    \n",
    "            "
   ]
  },
  {
   "cell_type": "code",
   "execution_count": null,
   "id": "10bf9e40-d486-4477-9cbf-eda806910a4f",
   "metadata": {},
   "outputs": [],
   "source": []
  },
  {
   "cell_type": "code",
   "execution_count": null,
   "id": "211ef63f-f632-4d91-be8e-65aab818df89",
   "metadata": {},
   "outputs": [],
   "source": []
  },
  {
   "cell_type": "code",
   "execution_count": null,
   "id": "8201b6a9-9359-4490-8d8e-39e44d257215",
   "metadata": {},
   "outputs": [],
   "source": []
  }
 ],
 "metadata": {
  "kernelspec": {
   "display_name": "Python 3 (ipykernel)",
   "language": "python",
   "name": "python3"
  },
  "language_info": {
   "codemirror_mode": {
    "name": "ipython",
    "version": 3
   },
   "file_extension": ".py",
   "mimetype": "text/x-python",
   "name": "python",
   "nbconvert_exporter": "python",
   "pygments_lexer": "ipython3",
   "version": "3.12.4"
  }
 },
 "nbformat": 4,
 "nbformat_minor": 5
}
