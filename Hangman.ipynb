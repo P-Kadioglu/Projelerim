{
 "cells": [
  {
   "cell_type": "code",
   "execution_count": 23,
   "id": "92b12729-f456-4dc5-8bce-f4d2a876a2a2",
   "metadata": {},
   "outputs": [
    {
     "name": "stdout",
     "output_type": "stream",
     "text": [
      "Welcome to Hangman!\n",
      "\n",
      "_ _ _ _\n"
     ]
    },
    {
     "name": "stdin",
     "output_type": "stream",
     "text": [
      "Guess a letter:  c\n"
     ]
    },
    {
     "name": "stdout",
     "output_type": "stream",
     "text": [
      "That letter doesn't appear in the word, idiot!!!.\n",
      "\n",
      "_ _ _ _\n"
     ]
    },
    {
     "name": "stdin",
     "output_type": "stream",
     "text": [
      "Guess a letter:  b\n"
     ]
    },
    {
     "name": "stdout",
     "output_type": "stream",
     "text": [
      "That letter doesn't appear in the word, idiot!!!.\n",
      "\n",
      "_ _ _ _\n"
     ]
    },
    {
     "name": "stdin",
     "output_type": "stream",
     "text": [
      "Guess a letter:  n\n"
     ]
    },
    {
     "name": "stdout",
     "output_type": "stream",
     "text": [
      "That letter doesn't appear in the word, idiot!!!.\n",
      "\n",
      "_ _ _ _\n"
     ]
    },
    {
     "name": "stdin",
     "output_type": "stream",
     "text": [
      "Guess a letter:  e\n"
     ]
    },
    {
     "name": "stdout",
     "output_type": "stream",
     "text": [
      "That letter doesn't appear in the word, idiot!!!.\n",
      "\n",
      "_ _ _ _\n"
     ]
    },
    {
     "name": "stdin",
     "output_type": "stream",
     "text": [
      "Guess a letter:  a\n"
     ]
    },
    {
     "name": "stdout",
     "output_type": "stream",
     "text": [
      "\n",
      "_ a _ a\n"
     ]
    },
    {
     "name": "stdin",
     "output_type": "stream",
     "text": [
      "Guess a letter:  t\n"
     ]
    },
    {
     "name": "stdout",
     "output_type": "stream",
     "text": [
      "That letter doesn't appear in the word, idiot!!!.\n",
      "\n",
      "_ a _ a\n"
     ]
    },
    {
     "name": "stdin",
     "output_type": "stream",
     "text": [
      "Guess a letter:  r\n"
     ]
    },
    {
     "name": "stdout",
     "output_type": "stream",
     "text": [
      "That letter doesn't appear in the word, idiot!!!.\n",
      "\n",
      "_ a _ a\n"
     ]
    },
    {
     "name": "stdin",
     "output_type": "stream",
     "text": [
      "Guess a letter:  f\n"
     ]
    },
    {
     "name": "stdout",
     "output_type": "stream",
     "text": [
      "That letter doesn't appear in the word, idiot!!!.\n",
      "\n",
      "_ a _ a\n"
     ]
    },
    {
     "name": "stdin",
     "output_type": "stream",
     "text": [
      "Guess a letter:  v\n"
     ]
    },
    {
     "name": "stdout",
     "output_type": "stream",
     "text": [
      "\n",
      "_ a v a\n"
     ]
    },
    {
     "name": "stdin",
     "output_type": "stream",
     "text": [
      "Guess a letter:  j\n"
     ]
    },
    {
     "name": "stdout",
     "output_type": "stream",
     "text": [
      "You guessed the word!\n",
      "j a v a\n",
      "You survived!\n"
     ]
    }
   ],
   "source": [
    "#Adam Asmaca oyunu\n",
    "\n",
    "import random\n",
    "\n",
    "words = [ 'python','java','kotlin','javascript','ruby','swift']\n",
    "\n",
    "#Randomly choose a word from the list\n",
    "\n",
    "chosen_word = random.choice(words)\n",
    "word_display = ['_' for _ in chosen_word]  #Create a list of underscores\n",
    "attempts = 8    #number of allowed attempts\n",
    "\n",
    "print(\"Welcome to Hangman!\")\n",
    "\n",
    "while attempts > 0 and '_' in word_display:\n",
    "    print(\"\\n\"+ ' '.join(word_display))\n",
    "    guess = input(\"Guess a letter: \").lower()\n",
    "    \n",
    "    if guess in chosen_word:\n",
    "        for index, letter in enumerate(chosen_word):\n",
    "            if letter == guess:\n",
    "                word_display[index] = guess #reveal letter\n",
    "    else:\n",
    "                print(\"That letter doesn't appear in the word, idiot!!!.\")\n",
    "                attempts -= 1\n",
    "\n",
    "#Game Conclusion\n",
    "if '_' not in word_display:\n",
    "    print(\"You guessed the word!\")\n",
    "    print(' '.join(word_display))\n",
    "    print(\"You survived!\")\n",
    "else:\n",
    "    print(\"You ran out of attempts. The word was : \"+chosen_word)\n",
    "    print(\"You lost!\")\n",
    "\n",
    "\n",
    "\n",
    "\n",
    "    "
   ]
  },
  {
   "cell_type": "code",
   "execution_count": null,
   "id": "a5c637dc-bd01-4cdd-a792-4c69ccfbd756",
   "metadata": {},
   "outputs": [],
   "source": []
  }
 ],
 "metadata": {
  "kernelspec": {
   "display_name": "Python 3 (ipykernel)",
   "language": "python",
   "name": "python3"
  },
  "language_info": {
   "codemirror_mode": {
    "name": "ipython",
    "version": 3
   },
   "file_extension": ".py",
   "mimetype": "text/x-python",
   "name": "python",
   "nbconvert_exporter": "python",
   "pygments_lexer": "ipython3",
   "version": "3.12.4"
  }
 },
 "nbformat": 4,
 "nbformat_minor": 5
}
