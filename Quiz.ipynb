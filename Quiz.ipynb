{
 "cells": [
  {
   "cell_type": "code",
   "execution_count": 126,
   "id": "d6050039-665c-4d24-bd51-bb34c4137ec9",
   "metadata": {},
   "outputs": [
    {
     "name": "stdout",
     "output_type": "stream",
     "text": [
      "What is the capital of France?\n",
      "A.Paris\n",
      "B.London\n",
      "C.Berlin\n",
      "D.Madrid\n"
     ]
    },
    {
     "name": "stdin",
     "output_type": "stream",
     "text": [
      "Enter your answer (A,B,C or D):  d\n"
     ]
    },
    {
     "name": "stdout",
     "output_type": "stream",
     "text": [
      "Wrong, LOSERRR!!! The correct answer was A \n",
      "\n",
      "Which language is primarily spoken in Brazil?\n",
      "A.Spanish\n",
      "B.Portuguese\n",
      "C.English\n",
      "D.French\n"
     ]
    },
    {
     "name": "stdin",
     "output_type": "stream",
     "text": [
      "Enter your answer (A,B,C or D):  b\n"
     ]
    },
    {
     "name": "stdout",
     "output_type": "stream",
     "text": [
      "Correct , hooray!!\n",
      "\n",
      "What is the smallest prime number?\n",
      "A.1\n",
      "B.2\n",
      "C.3\n",
      "D.5\n"
     ]
    },
    {
     "name": "stdin",
     "output_type": "stream",
     "text": [
      "Enter your answer (A,B,C or D):  d\n"
     ]
    },
    {
     "name": "stdout",
     "output_type": "stream",
     "text": [
      "Wrong, LOSERRR!!! The correct answer was B \n",
      "\n",
      "Who wrote 'To Kill a Mockingbird'?\n",
      "A.Harper Lee\n",
      "B.Mark Twain\n",
      "C.J.K Rowling\n",
      "D.Ernest Hemingway\n"
     ]
    },
    {
     "name": "stdin",
     "output_type": "stream",
     "text": [
      "Enter your answer (A,B,C or D):  a\n"
     ]
    },
    {
     "name": "stdout",
     "output_type": "stream",
     "text": [
      "Correct , hooray!!\n",
      "\n",
      "You got 16 out of 4 questions correct.\n"
     ]
    }
   ],
   "source": [
    "questions = [\n",
    "\n",
    "{\n",
    "    \"prompt\":\"What is the capital of France?\",\n",
    "    \"options\": [\"A.Paris\",\"B.London\",\"C.Berlin\",\"D.Madrid\"],\n",
    "    \"answer\":\"A\"\n",
    "},\n",
    "{\n",
    "    \"prompt\":\"Which language is primarily spoken in Brazil?\",\n",
    "    \"options\": [\"A.Spanish\",\"B.Portuguese\",\"C.English\",\"D.French\"],\n",
    "    \"answer\":\"B\"\n",
    "},\n",
    "{\n",
    "    \"prompt\":\"What is the smallest prime number?\",\n",
    "    \"options\": [\"A.1\",\"B.2\",\"C.3\",\"D.5\"],\n",
    "    \"answer\":\"B\"\n",
    "},\n",
    "{\n",
    "    \"prompt\":\"Who wrote 'To Kill a Mockingbird'?\",\n",
    "    \"options\": [\"A.Harper Lee\",\"B.Mark Twain\",\"C.J.K Rowling\",\"D.Ernest Hemingway\"],\n",
    "    \"answer\":\"A\"\n",
    "}\n",
    "]\n",
    "def run_quiz(questions):\n",
    "    score = 0\n",
    "for question in questions:\n",
    "    print(question[\"prompt\"])\n",
    "    for option in question[\"options\"]:\n",
    "        print(option)\n",
    "\n",
    "    answer = input(\"Enter your answer (A,B,C or D): \").upper()\n",
    "    if answer == question[\"answer\"]:\n",
    "        print(\"Correct , hooray!!\\n\")\n",
    "        score += 1\n",
    "    else:\n",
    "        print(\"Wrong, LOSERRR!!! The correct answer was\", question[\"answer\"], \"\\n\")\n",
    "\n",
    "\n",
    "print(f\"You got {score} out of {len(questions)} questions correct.\")\n",
    "\n",
    "run_quiz(questions)\n",
    "\n"
   ]
  },
  {
   "cell_type": "code",
   "execution_count": null,
   "id": "537de68b-ef7b-42f2-9e11-5b5609600601",
   "metadata": {},
   "outputs": [],
   "source": []
  },
  {
   "cell_type": "code",
   "execution_count": null,
   "id": "c1e2dc5e-38a7-4f48-b3b5-5afbe8b15ad0",
   "metadata": {},
   "outputs": [],
   "source": []
  },
  {
   "cell_type": "code",
   "execution_count": null,
   "id": "a087bf8e-3c7f-4aab-9711-cc9d3a7ce808",
   "metadata": {},
   "outputs": [],
   "source": []
  }
 ],
 "metadata": {
  "kernelspec": {
   "display_name": "Python 3 (ipykernel)",
   "language": "python",
   "name": "python3"
  },
  "language_info": {
   "codemirror_mode": {
    "name": "ipython",
    "version": 3
   },
   "file_extension": ".py",
   "mimetype": "text/x-python",
   "name": "python",
   "nbconvert_exporter": "python",
   "pygments_lexer": "ipython3",
   "version": "3.12.4"
  }
 },
 "nbformat": 4,
 "nbformat_minor": 5
}
