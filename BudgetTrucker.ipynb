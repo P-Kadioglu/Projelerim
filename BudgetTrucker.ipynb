{
 "cells": [
  {
   "cell_type": "code",
   "execution_count": null,
   "id": "3f7971d7-a08f-444d-939b-83a8093a0879",
   "metadata": {},
   "outputs": [
    {
     "name": "stdout",
     "output_type": "stream",
     "text": [
      "Welcome to the Budget App\n"
     ]
    },
    {
     "name": "stdin",
     "output_type": "stream",
     "text": [
      "Please enter your initial budget:  200\n"
     ]
    },
    {
     "name": "stdout",
     "output_type": "stream",
     "text": [
      "\n",
      "What would you like to do?\n",
      "1. Add an expense\n",
      "2. Show budget details\n",
      "3. Exit\n"
     ]
    },
    {
     "name": "stdin",
     "output_type": "stream",
     "text": [
      "Enter your choice (1/2/3):  2\n"
     ]
    },
    {
     "name": "stdout",
     "output_type": "stream",
     "text": [
      "Total Budget: 200.0\n",
      "Expenses:\n",
      "Total Spent: 0\n",
      "Remaining Budget: 200.0\n",
      "\n",
      "What would you like to do?\n",
      "1. Add an expense\n",
      "2. Show budget details\n",
      "3. Exit\n"
     ]
    },
    {
     "name": "stdin",
     "output_type": "stream",
     "text": [
      "Enter your choice (1/2/3):  1\n",
      "Enter expense description:  55\n",
      "Enter expense amount:  55\n"
     ]
    },
    {
     "name": "stdout",
     "output_type": "stream",
     "text": [
      "Added expense: 55, Amount: 55.0\n",
      "\n",
      "What would you like to do?\n",
      "1. Add an expense\n",
      "2. Show budget details\n",
      "3. Exit\n"
     ]
    },
    {
     "name": "stdin",
     "output_type": "stream",
     "text": [
      "Enter your choice (1/2/3):  2\n"
     ]
    },
    {
     "name": "stdout",
     "output_type": "stream",
     "text": [
      "Total Budget: 200.0\n",
      "Expenses:\n",
      "- 55: 55.0\n",
      "Total Spent: 55.0\n",
      "Remaining Budget: 145.0\n",
      "\n",
      "What would you like to do?\n",
      "1. Add an expense\n",
      "2. Show budget details\n",
      "3. Exit\n"
     ]
    }
   ],
   "source": [
    "import json\n",
    "\n",
    "def add_expense(expenses, description, amount):\n",
    "    expenses.append({\"description\": description, \"amount\": amount})\n",
    "    print(f\"Added expense: {description}, Amount: {amount}\")\n",
    "\n",
    "def get_total_expenses(expenses):\n",
    "    return sum(expense['amount'] for expense in expenses)\n",
    "\n",
    "def get_balance(budget, expenses):\n",
    "    return budget - get_total_expenses(expenses)\n",
    "\n",
    "def show_budget_details(budget, expenses):\n",
    "    print(f\"Total Budget: {budget}\")\n",
    "    print(\"Expenses:\")\n",
    "    for expense in expenses:\n",
    "        print(f\"- {expense['description']}: {expense['amount']}\")\n",
    "    print(f\"Total Spent: {get_total_expenses(expenses)}\")\n",
    "    print(f\"Remaining Budget: {get_balance(budget, expenses)}\")\n",
    "\n",
    "def load_budget_data(filepath):\n",
    "    try:\n",
    "        with open(filepath, 'r') as file:\n",
    "            data = json.load(file)\n",
    "            return data['initial_budget'], data['expenses']\n",
    "    except (FileNotFoundError, json.JSONDecodeError):\n",
    "        return 0, []  # Return default values if the file doesn't exist or is empty/corrupted\n",
    "#\n",
    "def save_budget_data(filepath, initial_budget, expenses):\n",
    "    data = {\n",
    "        'initial_budget': initial_budget,\n",
    "        'expenses': expenses\n",
    "    }\n",
    "    with open(filepath, 'w') as file:\n",
    "        json.dump(data, file, indent=4)\n",
    "\n",
    "\n",
    "def main():\n",
    "    print(\"Welcome to the Budget App\")\n",
    "    initial_budget = float(input(\"Please enter your initial budget: \"))\n",
    "    # filepath = 'budget_data.json'  # Define the path to your JSON file\n",
    "    # initial_budget, expenses = load_budget_data(filepath)\n",
    "    budget = initial_budget\n",
    "    expenses = []\n",
    "\n",
    "    while True:\n",
    "        print(\"\\nWhat would you like to do?\")\n",
    "        print(\"1. Add an expense\")\n",
    "        print(\"2. Show budget details\")\n",
    "        print(\"3. Exit\")\n",
    "        choice = input(\"Enter your choice (1/2/3): \")\n",
    "\n",
    "        if choice == \"1\":\n",
    "            description = input(\"Enter expense description: \")\n",
    "            amount = float(input(\"Enter expense amount: \"))\n",
    "            add_expense(expenses, description, amount)\n",
    "        elif choice == \"2\":\n",
    "            show_budget_details(budget, expenses)\n",
    "        elif choice == \"3\":\n",
    "            print(\"Exiting Budget App. Goodbye!\")\n",
    "            break\n",
    "        else:\n",
    "            print(\"Invalid choice, please choose again.\")\n",
    "\n",
    "if __name__ == \"__main__\":\n",
    "    main()"
   ]
  },
  {
   "cell_type": "code",
   "execution_count": null,
   "id": "407bc2fd-f133-4b6f-a9da-436e7518c613",
   "metadata": {},
   "outputs": [],
   "source": []
  }
 ],
 "metadata": {
  "kernelspec": {
   "display_name": "Python 3 (ipykernel)",
   "language": "python",
   "name": "python3"
  },
  "language_info": {
   "codemirror_mode": {
    "name": "ipython",
    "version": 3
   },
   "file_extension": ".py",
   "mimetype": "text/x-python",
   "name": "python",
   "nbconvert_exporter": "python",
   "pygments_lexer": "ipython3",
   "version": "3.12.4"
  }
 },
 "nbformat": 4,
 "nbformat_minor": 5
}
